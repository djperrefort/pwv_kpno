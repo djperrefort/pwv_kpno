{
 "cells": [
  {
   "cell_type": "markdown",
   "metadata": {},
   "source": [
    "# 2. Accessing PWV Data"
   ]
  },
  {
   "cell_type": "markdown",
   "metadata": {},
   "source": [
    "## 2.1. Checking For Available Data"
   ]
  },
  {
   "cell_type": "code",
   "execution_count": 1,
   "metadata": {},
   "outputs": [
    {
     "data": {
      "text/plain": [
       "[2010, 2011, 2012, 2013, 2014, 2015, 2016, 2017]"
      ]
     },
     "execution_count": 1,
     "metadata": {},
     "output_type": "execute_result"
    }
   ],
   "source": [
    "from pwv_kpno import pwv_atm\n",
    "pwv_atm.available_data()"
   ]
  },
  {
   "cell_type": "markdown",
   "metadata": {},
   "source": [
    "## 2.2. Updating Data"
   ]
  },
  {
   "cell_type": "code",
   "execution_count": 2,
   "metadata": {},
   "outputs": [
    {
     "data": {
      "text/plain": [
       "[2010]"
      ]
     },
     "execution_count": 2,
     "metadata": {},
     "output_type": "execute_result"
    }
   ],
   "source": [
    "pwv_atm.update_models(2010)"
   ]
  },
  {
   "cell_type": "markdown",
   "metadata": {},
   "source": [
    "## 2.3. Measured PWV Data"
   ]
  },
  {
   "cell_type": "code",
   "execution_count": 3,
   "metadata": {},
   "outputs": [
    {
     "name": "stdout",
     "output_type": "stream",
     "text": [
      "           date           KITT KITT_err P014 P014_err SA46 SA46_err SA48\n",
      "           UTC             mm     mm     mm     mm     mm     mm     mm \n",
      "------------------------- ---- -------- ---- -------- ---- -------- ----\n",
      "2010-01-01 00:15:00+00:00   --       --  3.6    0.125  4.2    0.125  4.7\n",
      "2010-01-01 00:45:00+00:00   --       --  3.7    0.125  4.0    0.125  4.7\n",
      "2010-01-01 01:15:00+00:00   --       --  3.7    0.025  3.4    0.125  3.6\n",
      "2010-01-01 01:45:00+00:00   --       --  3.6    0.025  3.6    0.125  3.6\n",
      "2010-01-01 02:15:00+00:00   --       --  3.8    0.025  3.3    0.125  3.5\n",
      "2010-01-01 02:45:00+00:00   --       --  3.8    0.025  3.2    0.125  3.6\n",
      "2010-01-01 03:15:00+00:00   --       --  3.7    0.025  3.3    0.125  3.7\n",
      "2010-01-01 03:45:00+00:00   --       --  3.6    0.025  3.0    0.125  3.5\n",
      "2010-01-01 04:15:00+00:00   --       --  3.6    0.025  2.9    0.125  3.4\n",
      "2010-01-01 04:45:00+00:00   --       --  3.7    0.125  3.4    0.125  3.8\n",
      "                      ...  ...      ...  ...      ...  ...      ...  ...\n",
      "2017-12-31 19:15:00+00:00 10.0    1.025   --       --   --       --   --\n",
      "2017-12-31 19:45:00+00:00  9.3    1.225   --       --   --       --   --\n",
      "2017-12-31 20:15:00+00:00 10.9    1.025   --       --   --       --   --\n",
      "2017-12-31 20:45:00+00:00 10.5    1.025   --       --   --       --   --\n",
      "2017-12-31 21:15:00+00:00 10.3    1.125   --       --   --       --   --\n",
      "2017-12-31 21:45:00+00:00 10.7    1.225   --       --   --       --   --\n",
      "2017-12-31 22:15:00+00:00 11.2    0.925   --       --   --       --   --\n",
      "2017-12-31 22:45:00+00:00 11.2    0.825   --       --   --       --   --\n",
      "2017-12-31 23:15:00+00:00 11.3    0.925   --       --   --       --   --\n",
      "2017-12-31 23:45:00+00:00 11.1    1.225   --       --   --       --   --\n",
      "Length = 136159 rows\n"
     ]
    }
   ],
   "source": [
    "from pwv_kpno import pwv_atm\n",
    "pwv_atm.measured_pwv()\n",
    "\n",
    "print(pwv_atm.measured_pwv()['date', 'KITT', 'KITT_err', 'P014', 'P014_err', 'SA46', 'SA46_err', 'SA48'])"
   ]
  },
  {
   "cell_type": "code",
   "execution_count": 4,
   "metadata": {},
   "outputs": [
    {
     "name": "stdout",
     "output_type": "stream",
     "text": [
      "           date           KITT KITT_err P014 P014_err SA46 SA46_err SA48\n",
      "           UTC             mm     mm     mm     mm     mm     mm     mm \n",
      "------------------------- ---- -------- ---- -------- ---- -------- ----\n",
      "2016-11-14 00:15:00+00:00  4.7    1.025  6.9    0.525  9.8    0.725   --\n",
      "2016-11-14 00:45:00+00:00  4.3    1.025  6.7    0.425  9.9    0.525   --\n",
      "2016-11-14 01:15:00+00:00  3.9    0.925  6.7    0.425  9.7    0.525   --\n",
      "2016-11-14 01:45:00+00:00  3.6    0.925  6.6    0.525  9.4    0.525   --\n",
      "2016-11-14 02:15:00+00:00  3.0    0.925  6.9    0.425  8.6    0.525   --\n",
      "2016-11-14 02:45:00+00:00  3.2    0.925  6.9    0.325  8.3    0.425   --\n",
      "2016-11-14 03:15:00+00:00  3.3    1.025  6.9    0.425  8.6    0.525   --\n",
      "2016-11-14 03:45:00+00:00  3.2    1.425  7.1    0.525  8.5    0.525   --\n",
      "2016-11-14 04:15:00+00:00  3.2    1.125  7.1    0.425  8.8    0.525   --\n",
      "2016-11-14 04:45:00+00:00  3.5    1.025  6.9    0.425  8.8    0.625   --\n",
      "                      ...  ...      ...  ...      ...  ...      ...  ...\n",
      "2016-11-14 19:15:00+00:00  4.7    0.825  5.6    0.325  8.1    0.525   --\n",
      "2016-11-14 19:45:00+00:00  4.4    0.925  6.0    0.425  8.3    0.525   --\n",
      "2016-11-14 20:15:00+00:00  4.5    0.825  6.3    0.425  8.2    0.425   --\n",
      "2016-11-14 20:45:00+00:00  3.5    1.225  6.1    0.525  7.8    0.625   --\n",
      "2016-11-14 21:15:00+00:00  3.4    1.125  5.9    0.525  7.8    0.725   --\n",
      "2016-11-14 21:45:00+00:00  4.2    0.525  6.1    0.425  7.7    0.525   --\n",
      "2016-11-14 22:15:00+00:00  3.9    0.425  6.2    0.425  7.5    0.425   --\n",
      "2016-11-14 22:45:00+00:00  4.3    0.525  5.7    0.425  7.5    0.525   --\n",
      "2016-11-14 23:15:00+00:00  4.4    0.525  5.5    0.525  7.5    0.525   --\n",
      "2016-11-14 23:45:00+00:00  4.3    0.625  5.8    0.625  7.6    0.625   --\n",
      "Length = 48 rows\n"
     ]
    }
   ],
   "source": [
    "pwv_atm.measured_pwv(year=2016, month=11, day=14)\n",
    "\n",
    "print(pwv_atm.measured_pwv(year=2016, month=11, day=14)['date', 'KITT', 'KITT_err', 'P014', 'P014_err', 'SA46', 'SA46_err', 'SA48'])"
   ]
  },
  {
   "cell_type": "markdown",
   "metadata": {},
   "source": [
    "## 2.4 Modeled PWV Data"
   ]
  },
  {
   "cell_type": "code",
   "execution_count": 5,
   "metadata": {},
   "outputs": [
    {
     "name": "stdout",
     "output_type": "stream",
     "text": [
      "           date            pwv  pwv_err\n",
      "           UTC              mm     mm  \n",
      "------------------------- ----- -------\n",
      "2010-01-01 00:15:00+00:00  1.55   1.227\n",
      "2010-01-01 00:45:00+00:00 1.532   1.225\n",
      "2010-01-01 01:15:00+00:00 1.178   1.175\n",
      "2010-01-01 01:45:00+00:00 1.197   1.178\n",
      "2010-01-01 02:15:00+00:00  1.16   1.172\n",
      "2010-01-01 02:45:00+00:00  1.16   1.172\n",
      "2010-01-01 03:15:00+00:00 1.178   1.175\n",
      "2010-01-01 03:45:00+00:00  1.05   1.158\n",
      "2010-01-01 04:15:00+00:00 1.009   1.152\n",
      "2010-01-01 04:45:00+00:00  1.22   1.181\n",
      "                      ...   ...     ...\n",
      "2017-12-31 19:15:00+00:00  10.0   1.025\n",
      "2017-12-31 19:45:00+00:00   9.3   1.225\n",
      "2017-12-31 20:15:00+00:00  10.9   1.025\n",
      "2017-12-31 20:45:00+00:00  10.5   1.025\n",
      "2017-12-31 21:15:00+00:00  10.3   1.125\n",
      "2017-12-31 21:45:00+00:00  10.7   1.225\n",
      "2017-12-31 22:15:00+00:00  11.2   0.925\n",
      "2017-12-31 22:45:00+00:00  11.2   0.825\n",
      "2017-12-31 23:15:00+00:00  11.3   0.925\n",
      "2017-12-31 23:45:00+00:00  11.1   1.225\n",
      "Length = 135940 rows\n"
     ]
    }
   ],
   "source": [
    "from pwv_kpno import pwv_atm\n",
    "pwv_atm.modeled_pwv()\n",
    "\n",
    "print(pwv_atm.modeled_pwv())"
   ]
  },
  {
   "cell_type": "code",
   "execution_count": 6,
   "metadata": {},
   "outputs": [
    {
     "name": "stdout",
     "output_type": "stream",
     "text": [
      "           date           pwv pwv_err\n",
      "           UTC             mm    mm  \n",
      "------------------------- --- -------\n",
      "2016-11-14 00:15:00+00:00 4.7   1.025\n",
      "2016-11-14 00:45:00+00:00 4.3   1.025\n",
      "2016-11-14 01:15:00+00:00 3.9   0.925\n",
      "2016-11-14 01:45:00+00:00 3.6   0.925\n",
      "2016-11-14 02:15:00+00:00 3.0   0.925\n",
      "2016-11-14 02:45:00+00:00 3.2   0.925\n",
      "2016-11-14 03:15:00+00:00 3.3   1.025\n",
      "2016-11-14 03:45:00+00:00 3.2   1.425\n",
      "2016-11-14 04:15:00+00:00 3.2   1.125\n",
      "2016-11-14 04:45:00+00:00 3.5   1.025\n",
      "                      ... ...     ...\n",
      "2016-11-14 19:15:00+00:00 4.7   0.825\n",
      "2016-11-14 19:45:00+00:00 4.4   0.925\n",
      "2016-11-14 20:15:00+00:00 4.5   0.825\n",
      "2016-11-14 20:45:00+00:00 3.5   1.225\n",
      "2016-11-14 21:15:00+00:00 3.4   1.125\n",
      "2016-11-14 21:45:00+00:00 4.2   0.525\n",
      "2016-11-14 22:15:00+00:00 3.9   0.425\n",
      "2016-11-14 22:45:00+00:00 4.3   0.525\n",
      "2016-11-14 23:15:00+00:00 4.4   0.525\n",
      "2016-11-14 23:45:00+00:00 4.3   0.625\n",
      "Length = 48 rows\n"
     ]
    }
   ],
   "source": [
    "pwv_atm.modeled_pwv(year=2016, month=11, day=14)\n",
    "\n",
    "print(pwv_atm.modeled_pwv(year=2016, month=11, day=14))"
   ]
  },
  {
   "cell_type": "markdown",
   "metadata": {},
   "source": [
    "## 2.5. PWV For a Given Date"
   ]
  },
  {
   "cell_type": "code",
   "execution_count": 7,
   "metadata": {
    "collapsed": true
   },
   "outputs": [],
   "source": [
    "from datetime import datetime\n",
    "from pwv_kpno import pwv_atm\n",
    "import pytz\n",
    "\n",
    "date = datetime(2016, 11, 14, 11, 6, tzinfo=pytz.utc)\n",
    "pwv = pwv_atm.pwv_date(date)"
   ]
  },
  {
   "cell_type": "markdown",
   "metadata": {},
   "source": [
    "# 3. Modeling the Atmosphere"
   ]
  },
  {
   "cell_type": "markdown",
   "metadata": {},
   "source": [
    "## 3.1. Transmission for Datetime"
   ]
  },
  {
   "cell_type": "code",
   "execution_count": 8,
   "metadata": {},
   "outputs": [
    {
     "name": "stdout",
     "output_type": "stream",
     "text": [
      "wavelength  transmission \n",
      " Angstrom                \n",
      "---------- --------------\n",
      "    3000.0 0.999999991637\n",
      "    3001.0 0.999999991629\n",
      "    3002.0 0.999999991621\n",
      "    3003.0 0.999999991612\n",
      "    3004.0 0.999999991603\n",
      "    3005.0 0.999999991595\n",
      "    3006.0 0.999999991585\n",
      "    3007.0 0.999999991576\n",
      "    3008.0 0.999999991567\n",
      "    3009.0 0.999999991559\n",
      "       ...            ...\n",
      "   11991.0 0.992163654169\n",
      "   11992.0 0.839664926133\n",
      "   11993.0 0.995568211218\n",
      "   11994.0  0.99841761665\n",
      "   11995.0 0.998830491639\n",
      "   11996.0   0.9983423854\n",
      "   11997.0 0.980524724469\n",
      "   11998.0 0.996443070505\n",
      "   11999.0 0.998773201136\n",
      "   12000.0 0.998745916451\n",
      "Length = 9001 rows\n"
     ]
    }
   ],
   "source": [
    "from datetime import datetime\n",
    "from pwv_kpno import pwv_atm\n",
    "import pytz\n",
    "\n",
    "obsv_date = datetime(year=2013,\n",
    "                     month=12,\n",
    "                     day=15,\n",
    "                     hour=5,\n",
    "                     minute=35,\n",
    "                     tzinfo=pytz.utc)\n",
    "\n",
    "pwv_atm.trans_for_date(date=obsv_date, airmass=1.2)\n",
    "\n",
    "print(pwv_atm.trans_for_date(date=obsv_date, airmass=1.2))"
   ]
  },
  {
   "cell_type": "markdown",
   "metadata": {},
   "source": [
    "## 3.2. Transmission for PWV"
   ]
  },
  {
   "cell_type": "code",
   "execution_count": 9,
   "metadata": {},
   "outputs": [
    {
     "name": "stdout",
     "output_type": "stream",
     "text": [
      "wavelength  transmission \n",
      " Angstrom                \n",
      "---------- --------------\n",
      "    3000.0 0.999999922781\n",
      "    3001.0 0.999999922702\n",
      "    3002.0 0.999999922625\n",
      "    3003.0 0.999999922542\n",
      "    3004.0 0.999999922464\n",
      "    3005.0 0.999999922385\n",
      "    3006.0 0.999999922292\n",
      "    3007.0 0.999999922214\n",
      "    3008.0 0.999999922132\n",
      "    3009.0 0.999999922053\n",
      "       ...            ...\n",
      "   11991.0 0.929930665922\n",
      "   11992.0 0.199159270182\n",
      "   11993.0  0.95981592311\n",
      "   11994.0 0.985483215727\n",
      "   11995.0 0.989252695838\n",
      "   11996.0   0.9847977481\n",
      "   11997.0 0.833928609723\n",
      "   11998.0 0.967632438857\n",
      "   11999.0 0.988728876012\n",
      "   12000.0 0.988479493013\n",
      "Length = 9001 rows\n"
     ]
    }
   ],
   "source": [
    "from pwv_kpno import pwv_atm\n",
    "pwv_atm.trans_for_pwv(13.5)\n",
    "\n",
    "print(pwv_atm.trans_for_pwv(13.5))"
   ]
  },
  {
   "cell_type": "markdown",
   "metadata": {},
   "source": [
    "# 4. Modeling a Black Body"
   ]
  },
  {
   "cell_type": "markdown",
   "metadata": {},
   "source": [
    "## 4.1. Generating an SED"
   ]
  },
  {
   "cell_type": "code",
   "execution_count": 10,
   "metadata": {},
   "outputs": [
    {
     "data": {
      "text/plain": [
       "array([ 5406750.98492275,  5646734.81222486,  4983737.01449087,\n",
       "        5003884.85775028,  4974665.11517994,  5018055.69870185,\n",
       "        4863014.64754252,  4712719.17359184,  4567363.07331736,\n",
       "        4417592.39123406,  4123043.3452606 ,  4130990.29773943,\n",
       "        3516857.08276981,  3868084.43528899,  3301086.67587016,\n",
       "        3672026.52163321,  3567025.77016673,  3461013.96309991,\n",
       "        3358141.06336521,  3251601.77051395,  3064630.03322546,\n",
       "        2809763.91235985,  2853217.79959705,  1051488.316661  ,\n",
       "        2525777.14432192,   252678.85310571,  2120614.07595091,\n",
       "        2252105.19457303,  2460033.92176797,  2383125.54323284])"
      ]
     },
     "execution_count": 10,
     "metadata": {},
     "output_type": "execute_result"
    }
   ],
   "source": [
    "import numpy as np\n",
    "from pwv_kpno import blackbody_with_atm as bb_atm\n",
    "\n",
    "bb_temp = 8000\n",
    "wavelengths = np.arange(7000, 10000, 100)\n",
    "pwv = 15\n",
    "\n",
    "sed = bb_atm.sed(bb_temp, wavelengths, pwv)\n",
    "sed"
   ]
  },
  {
   "cell_type": "markdown",
   "metadata": {},
   "source": [
    "## 4.2. Magnitude"
   ]
  },
  {
   "cell_type": "code",
   "execution_count": 11,
   "metadata": {
    "collapsed": true
   },
   "outputs": [],
   "source": [
    "from pwv_kpno import blackbody_with_atm as bb_atm\n",
    "\n",
    "bb_temp = 8000\n",
    "i_band = (7000, 8500)\n",
    "pwv = 15\n",
    " \n",
    "bb_mag = bb_atm.magnitude(bb_temp, i_band, pwv)\n"
   ]
  },
  {
   "cell_type": "markdown",
   "metadata": {},
   "source": [
    "## 4.3. Estimating Zero Point Error"
   ]
  },
  {
   "cell_type": "code",
   "execution_count": 12,
   "metadata": {
    "collapsed": true
   },
   "outputs": [],
   "source": [
    "from pwv_kpno import blackbody_with_atm as bb_atm\n",
    "\n",
    "reference_star_temp = 4000\n",
    "other_star_temp = 10000\n",
    "bias = bb_atm.zp_bias(reference_star_temp, other_star_temp, i_band, pwv)\n"
   ]
  },
  {
   "cell_type": "markdown",
   "metadata": {},
   "source": [
    "# 5. Correcting Observations"
   ]
  },
  {
   "cell_type": "markdown",
   "metadata": {},
   "source": [
    "## 5.1. Spectrographic Observations"
   ]
  },
  {
   "cell_type": "code",
   "execution_count": 13,
   "metadata": {},
   "outputs": [
    {
     "name": "stdout",
     "output_type": "stream",
     "text": [
      "[ 5406750.98492275  5646734.81222486  4983737.01449087  5003884.85775028\n",
      "  4974665.11517994  5018055.69870185  4863014.64754252  4712719.17359184\n",
      "  4567363.07331736  4417592.39123406  4123043.3452606   4130990.29773943\n",
      "  3516857.08276981  3868084.43528899  3301086.67587016  3672026.52163321\n",
      "  3567025.77016673  3461013.96309991  3358141.06336521  3251601.77051395\n",
      "  3064630.03322546  2809763.91235985  2853217.79959705  1051488.316661\n",
      "  2525777.14432192   252678.85310571  2120614.07595091  2252105.19457303\n",
      "  2460033.92176797  2383125.54323284]\n"
     ]
    }
   ],
   "source": [
    "from pwv_kpno import blackbody_with_atm as bb_atm\n",
    "import numpy as np\n",
    "\n",
    "temp = 8000\n",
    "wavelengths = np.arange(7000, 10000, 100)\n",
    "pwv = 15\n",
    "\n",
    "sed = bb_atm.sed(temp, wavelengths, pwv)\n",
    "print(sed)"
   ]
  },
  {
   "cell_type": "code",
   "execution_count": 14,
   "metadata": {},
   "outputs": [
    {
     "name": "stdout",
     "output_type": "stream",
     "text": [
      "  wavelength   transmission \n",
      "   Angstrom                 \n",
      "------------- --------------\n",
      "       7000.0 0.919816502043\n",
      "7001.00033344 0.859025413633\n",
      "7002.00066689 0.996773628824\n",
      "7003.00100033 0.993449427182\n",
      "7004.00133378 0.960789641891\n",
      "7005.00166722 0.994767511294\n",
      "7006.00200067 0.988706142096\n",
      "7007.00233411 0.880536596056\n",
      "7008.00266756 0.970891734905\n",
      "  7009.003001 0.992559332099\n",
      "          ...            ...\n",
      "  9990.996999 0.979731389686\n",
      "9991.99733244 0.996417576944\n",
      "9992.99766589 0.996532945424\n",
      "9993.99799933 0.999185437214\n",
      "9994.99833278 0.997743312956\n",
      "9995.99866622 0.981159911672\n",
      "9996.99899967 0.994302777101\n",
      "9997.99933311  0.99873727295\n",
      "9998.99966656 0.999357354754\n",
      "      10000.0 0.999018007654\n",
      "Length = 3000 rows\n"
     ]
    }
   ],
   "source": [
    "from pwv_kpno import pwv_atm\n",
    "\n",
    "modeled_trans = pwv_atm.trans_for_pwv(15)\n",
    "print(modeled_trans)"
   ]
  },
  {
   "cell_type": "code",
   "execution_count": 15,
   "metadata": {
    "collapsed": true
   },
   "outputs": [],
   "source": [
    "sampled_sed = np.interp(modeled_trans[\"wavelength\"],\n",
    "                        wavelengths,\n",
    "                        sed)"
   ]
  },
  {
   "cell_type": "code",
   "execution_count": 16,
   "metadata": {
    "collapsed": true
   },
   "outputs": [],
   "source": [
    "corrected_spec = np.divide(sampled_sed, modeled_trans[\"transmission\"])"
   ]
  },
  {
   "cell_type": "markdown",
   "metadata": {},
   "source": [
    "## 5.2. Photometric Observations"
   ]
  },
  {
   "cell_type": "code",
   "execution_count": 17,
   "metadata": {
    "collapsed": true
   },
   "outputs": [],
   "source": [
    "from pwv_kpno import blackbody_with_atm as bb_atm\n",
    "import numpy as np\n",
    "\n",
    "pwv = 15\n",
    "temp = 8000\n",
    "\n",
    "i_band = (7000, 8500)\n",
    "sample_rate = 100\n",
    "wavelengths = np.arange(i_band[0], i_band[1], sample_rate)\n",
    "\n",
    "sed_with_atm = bb_atm.sed(temp, wavelengths, pwv)  # S(lambda) T(lambda)\n",
    "intrinsic_sed = bb_atm.sed(temp, wavelengths, 0)  # S(lambda)"
   ]
  },
  {
   "cell_type": "code",
   "execution_count": 18,
   "metadata": {
    "collapsed": true
   },
   "outputs": [],
   "source": [
    "numerator = np.trapz(sed_with_atm, i_band, sample_rate)\n",
    "denominator = np.trapz(intrinsic_sed, i_band, sample_rate)\n",
    "\n",
    "photo_corr = np.divide(numerator, denominator)"
   ]
  },
  {
   "cell_type": "code",
   "execution_count": null,
   "metadata": {
    "collapsed": true
   },
   "outputs": [],
   "source": []
  }
 ],
 "metadata": {
  "kernelspec": {
   "display_name": "Python 3",
   "language": "python",
   "name": "python3"
  },
  "language_info": {
   "codemirror_mode": {
    "name": "ipython",
    "version": 3
   },
   "file_extension": ".py",
   "mimetype": "text/x-python",
   "name": "python",
   "nbconvert_exporter": "python",
   "pygments_lexer": "ipython3",
   "version": "3.6.5"
  }
 },
 "nbformat": 4,
 "nbformat_minor": 1
}
