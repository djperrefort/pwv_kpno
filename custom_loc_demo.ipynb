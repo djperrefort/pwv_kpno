{
 "cells": [
  {
   "cell_type": "code",
   "execution_count": null,
   "metadata": {},
   "outputs": [],
   "source": [
    "from pwv_kpno import __version__\n",
    "if not int(__version__.split('.')[1]) >= 12:\n",
    "    raise ImportError('Requires at least pwv_kpno version 0.12.0')\n"
   ]
  },
  {
   "cell_type": "markdown",
   "metadata": {},
   "source": [
    "## Creating a new config file"
   ]
  },
  {
   "cell_type": "markdown",
   "metadata": {},
   "source": [
    "In order to model the atmosphere at a given location, `pwv_kpno` requires a config file for that location. We can create a custom config file using the `ConfigBuilder` class as follows:"
   ]
  },
  {
   "cell_type": "code",
   "execution_count": null,
   "metadata": {},
   "outputs": [],
   "source": [
    "import numpy as np\n",
    "from pwv_kpno import ConfigBuilder\n",
    "\n",
    "\n",
    "# An subset of the Kitt Peak model using Angstroms and cm^2\n",
    "wavelengths = np.array([3000, 3001, 3002]) \n",
    "modtran_cross_sections = np.array([5.719913264564206E-9,\n",
    "                                   5.725763008721962E-9,\n",
    "                                   5.7315124715513006E-9])\n",
    "\n",
    "new_config = ConfigBuilder()\n",
    "new_config.loc_name = 'example_loc'\n",
    "new_config.primary_rec = 'KITT' # The primary receiver\n",
    "new_config.sup_rec = ['AZAM']  # A list of secondary receivers\n",
    "new_config.wavelengths = wavelengths\n",
    "new_config.cross_sections = modtran_cross_sections\n",
    "\n",
    "# Create output file example_loc.ecsv\n",
    "# By default existing files are not overwritten\n",
    "new_config.save_to_dir('.', overwrite=True)\n"
   ]
  },
  {
   "cell_type": "markdown",
   "metadata": {},
   "source": [
    "An alternative but functionally equivilent method would be to instantiate the class with the desired information:"
   ]
  },
  {
   "cell_type": "code",
   "execution_count": null,
   "metadata": {},
   "outputs": [],
   "source": [
    "new_config = ConfigBuilder(\n",
    "    loc_name = 'example_loc',\n",
    "    primary_rec = 'KITT',\n",
    "    sup_rec = ['AZAM'],\n",
    "    wavelengths = wavelengths,\n",
    "    cross_sections = modtran_cross_sections\n",
    ")\n",
    "\n",
    "new_config.save_to_dir('.', overwrite=True)"
   ]
  },
  {
   "cell_type": "markdown",
   "metadata": {},
   "source": [
    "If desired, useres can specify custom data cuts on SuomiNet data used by the package. Data cuts can be specified using a 2d dictionary of boundary values. The first key specifies which receiver the data cuts apply to. The second key specifies what values to cut. Following SuomiNet's naming convention, optional values that can be cut include `'PWV', 'PWVerr', 'ZenithDelay', 'SrfcPress', 'SrfcTemp',` and `'SrfcRH'`. For example, if we only wanted to use pressure measurements between 880 and 925 mbar for the AZAM receiver:"
   ]
  },
  {
   "cell_type": "code",
   "execution_count": null,
   "metadata": {},
   "outputs": [],
   "source": [
    "# Here we define what data NOT to use\n",
    "data_cuts = {'AZAM': {'SrfcPress': [[0, 880], [925, 10000]]}}     \n",
    "\n",
    "new_config = ConfigBuilder(\n",
    "    loc_name = 'example_loc',\n",
    "    primary_rec = 'KITT',\n",
    "    sup_rec = ['AZAM'],\n",
    "    wavelengths = wavelengths,\n",
    "    cross_sections = modtran_cross_sections,\n",
    "    data_cuts = data_cuts\n",
    ")\n",
    "\n",
    "new_config.save_to_dir('.', overwrite=True)"
   ]
  },
  {
   "cell_type": "markdown",
   "metadata": {},
   "source": [
    "## Errors and Warnings"
   ]
  },
  {
   "cell_type": "markdown",
   "metadata": {},
   "source": [
    "If the user forgets to provide any required information, `save_to_dir` will raise an error."
   ]
  },
  {
   "cell_type": "code",
   "execution_count": null,
   "metadata": {},
   "outputs": [],
   "source": [
    "new_config = ConfigBuilder(\n",
    "    primary_rec = 'kitt',\n",
    "    sup_rec = ['Sa48'],\n",
    "    wavelengths = wavelengths,\n",
    "    cross_sections = modtran_cross_sections\n",
    ")\n",
    "\n",
    "new_config.save_to_dir('.', overwrite=True)"
   ]
  },
  {
   "cell_type": "markdown",
   "metadata": {},
   "source": [
    "Any issues with formatting the data will raise warnings. This helps ensure that the user understands how the package works. These warnings are also raised when the `save_to_dir` method is called."
   ]
  },
  {
   "cell_type": "code",
   "execution_count": null,
   "metadata": {},
   "outputs": [],
   "source": [
    "new_config = ConfigBuilder(\n",
    "    loc_name = 'EXAMPLE_LOC',\n",
    "    primary_rec = 'kitt',\n",
    "    sup_rec = ['Sa48'],\n",
    "    wavelengths = wavelengths,\n",
    "    cross_sections = modtran_cross_sections\n",
    ")\n",
    "\n",
    "new_config.save_to_dir('.', overwrite=True)"
   ]
  },
  {
   "cell_type": "markdown",
   "metadata": {},
   "source": [
    "# Choosing a location into pwv_kpno"
   ]
  },
  {
   "cell_type": "markdown",
   "metadata": {},
   "source": [
    "When imported, the `pwv_kpno` package has no knowledge of what location you wish to model"
   ]
  },
  {
   "cell_type": "code",
   "execution_count": null,
   "metadata": {},
   "outputs": [],
   "source": [
    "from pwv_kpno import pwv_atm\n",
    "\n",
    "pwv_atm.available_data()"
   ]
  },
  {
   "cell_type": "markdown",
   "metadata": {},
   "source": [
    "We can configure `pwv_kpno` to model a specific location using the `settings` object"
   ]
  },
  {
   "cell_type": "code",
   "execution_count": null,
   "metadata": {},
   "outputs": [],
   "source": [
    "from pwv_kpno import settings\n",
    "\n",
    "settings.set_location('kitt_peak')\n",
    "pwv_atm.available_data()"
   ]
  },
  {
   "cell_type": "markdown",
   "metadata": {},
   "source": [
    "The `settings` object also provides a handful of useful information about the current location"
   ]
  },
  {
   "cell_type": "code",
   "execution_count": null,
   "metadata": {},
   "outputs": [],
   "source": [
    "print('Location being modeled:', settings.loc_name)\n",
    "print('List of available locations: ', settings.available_loc)\n",
    "print('List of receiver ids for the current location: ', settings.receivers)\n",
    "print('The id for primary receiver: ', settings.primary_rec)\n",
    "print('The ids for supplementary receivers: ', settings.supplement_rec)"
   ]
  },
  {
   "cell_type": "markdown",
   "metadata": {},
   "source": [
    "In order to model a custom location we first need to import the appropriate config file. Note that this step only has to be done once. Afterwards we can switch betwean locations normally using the `set_location` method."
   ]
  },
  {
   "cell_type": "code",
   "execution_count": null,
   "metadata": {},
   "outputs": [],
   "source": [
    "#settings.import_location('./example_loc.ecsv')\n",
    "settings.set_location('example_loc')\n",
    "pwv_atm.available_data()"
   ]
  },
  {
   "cell_type": "markdown",
   "metadata": {},
   "source": [
    "By default there is no local SuomiNet data for this location. We need to download this first"
   ]
  },
  {
   "cell_type": "code",
   "execution_count": null,
   "metadata": {},
   "outputs": [],
   "source": [
    "pwv_atm.update_models(2010)"
   ]
  },
  {
   "cell_type": "code",
   "execution_count": null,
   "metadata": {
    "collapsed": true
   },
   "outputs": [],
   "source": []
  }
 ],
 "metadata": {
  "kernelspec": {
   "display_name": "Python 3",
   "language": "python",
   "name": "python3"
  },
  "language_info": {
   "codemirror_mode": {
    "name": "ipython",
    "version": 3
   },
   "file_extension": ".py",
   "mimetype": "text/x-python",
   "name": "python",
   "nbconvert_exporter": "python",
   "pygments_lexer": "ipython3",
   "version": "3.6.5"
  }
 },
 "nbformat": 4,
 "nbformat_minor": 2
}
