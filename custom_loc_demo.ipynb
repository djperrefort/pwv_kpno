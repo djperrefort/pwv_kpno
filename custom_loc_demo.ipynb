{
 "cells": [
  {
   "cell_type": "code",
   "execution_count": 2,
   "metadata": {},
   "outputs": [],
   "source": [
    "import pwv_kpno \n",
    "major, minor, patch = pwv_kpno.__version__.split('.')\n",
    "\n",
    "if not (int(minor) > 12 or (int(minor) == 12 and int(patch) >= 1)):\n",
    "    raise ImportError('This demo requires at least pwv_kpno version 0.12.1')\n"
   ]
  },
  {
   "cell_type": "code",
   "execution_count": 25,
   "metadata": {},
   "outputs": [
    {
     "ename": "ValueError",
     "evalue": "Arguments \"names\" and \"dtype\" must match number of columns",
     "output_type": "error",
     "traceback": [
      "\u001b[0;31m---------------------------------------------------------------------------\u001b[0m",
      "\u001b[0;31mValueError\u001b[0m                                Traceback (most recent call last)",
      "\u001b[0;32m<ipython-input-25-c03592e36456>\u001b[0m in \u001b[0;36m<module>\u001b[0;34m()\u001b[0m\n\u001b[1;32m      5\u001b[0m \u001b[0;34m\u001b[0m\u001b[0m\n\u001b[1;32m      6\u001b[0m \u001b[0mbins\u001b[0m \u001b[0;34m=\u001b[0m \u001b[0mnp\u001b[0m\u001b[0;34m.\u001b[0m\u001b[0marange\u001b[0m\u001b[0;34m(\u001b[0m\u001b[0;36m4000\u001b[0m\u001b[0;34m,\u001b[0m \u001b[0;36m12000\u001b[0m\u001b[0;34m)\u001b[0m\u001b[0;34m\u001b[0m\u001b[0m\n\u001b[0;32m----> 7\u001b[0;31m \u001b[0mt\u001b[0m \u001b[0;34m=\u001b[0m \u001b[0mtrans_for_pwv\u001b[0m\u001b[0;34m(\u001b[0m\u001b[0;36m12\u001b[0m\u001b[0;34m,\u001b[0m \u001b[0;36m4\u001b[0m\u001b[0;34m,\u001b[0m \u001b[0mbins\u001b[0m\u001b[0;34m)\u001b[0m\u001b[0;34m\u001b[0m\u001b[0m\n\u001b[0m\u001b[1;32m      8\u001b[0m \u001b[0;34m\u001b[0m\u001b[0m\n\u001b[1;32m      9\u001b[0m \u001b[0mplt\u001b[0m\u001b[0;34m.\u001b[0m\u001b[0merrorbar\u001b[0m\u001b[0;34m(\u001b[0m\u001b[0mx\u001b[0m\u001b[0;34m=\u001b[0m\u001b[0mt\u001b[0m\u001b[0;34m[\u001b[0m\u001b[0;34m'wavelength'\u001b[0m\u001b[0;34m]\u001b[0m\u001b[0;34m,\u001b[0m \u001b[0my\u001b[0m\u001b[0;34m=\u001b[0m\u001b[0mt\u001b[0m\u001b[0;34m[\u001b[0m\u001b[0;34m'transmission'\u001b[0m\u001b[0;34m]\u001b[0m\u001b[0;34m,\u001b[0m \u001b[0myerr\u001b[0m\u001b[0;34m=\u001b[0m\u001b[0mt\u001b[0m\u001b[0;34m[\u001b[0m\u001b[0;34m'transmission_err'\u001b[0m\u001b[0;34m]\u001b[0m\u001b[0;34m,\u001b[0m \u001b[0mecolor\u001b[0m\u001b[0;34m=\u001b[0m\u001b[0;34m'grey'\u001b[0m\u001b[0;34m)\u001b[0m\u001b[0;34m\u001b[0m\u001b[0m\n",
      "\u001b[0;32m/Users/daniel/GitHub/pwv_kpno/pwv_kpno/pwv_atm.py\u001b[0m in \u001b[0;36mtrans_for_pwv\u001b[0;34m(pwv, pwv_err, bins)\u001b[0m\n\u001b[1;32m    398\u001b[0m \u001b[0;34m\u001b[0m\u001b[0m\n\u001b[1;32m    399\u001b[0m         out_table = Table([bin_edges[:-1], statistic],\n\u001b[0;32m--> 400\u001b[0;31m                           names=atm_model.colnames)\n\u001b[0m\u001b[1;32m    401\u001b[0m \u001b[0;34m\u001b[0m\u001b[0m\n\u001b[1;32m    402\u001b[0m     \u001b[0;32melse\u001b[0m\u001b[0;34m:\u001b[0m\u001b[0;34m\u001b[0m\u001b[0m\n",
      "\u001b[0;32m/Users/daniel/anaconda/lib/python3.6/site-packages/astropy/table/table.py\u001b[0m in \u001b[0;36m__init__\u001b[0;34m(self, data, masked, names, dtype, meta, copy, rows, copy_indices, **kwargs)\u001b[0m\n\u001b[1;32m    403\u001b[0m         \u001b[0mnames\u001b[0m \u001b[0;34m=\u001b[0m \u001b[0;34m[\u001b[0m\u001b[0mfix_column_name\u001b[0m\u001b[0;34m(\u001b[0m\u001b[0mname\u001b[0m\u001b[0;34m)\u001b[0m \u001b[0;32mfor\u001b[0m \u001b[0mname\u001b[0m \u001b[0;32min\u001b[0m \u001b[0mnames\u001b[0m\u001b[0;34m]\u001b[0m\u001b[0;34m\u001b[0m\u001b[0m\n\u001b[1;32m    404\u001b[0m \u001b[0;34m\u001b[0m\u001b[0m\n\u001b[0;32m--> 405\u001b[0;31m         \u001b[0mself\u001b[0m\u001b[0;34m.\u001b[0m\u001b[0m_check_names_dtype\u001b[0m\u001b[0;34m(\u001b[0m\u001b[0mnames\u001b[0m\u001b[0;34m,\u001b[0m \u001b[0mdtype\u001b[0m\u001b[0;34m,\u001b[0m \u001b[0mn_cols\u001b[0m\u001b[0;34m)\u001b[0m\u001b[0;34m\u001b[0m\u001b[0m\n\u001b[0m\u001b[1;32m    406\u001b[0m \u001b[0;34m\u001b[0m\u001b[0m\n\u001b[1;32m    407\u001b[0m         \u001b[0;31m# Finally do the real initialization\u001b[0m\u001b[0;34m\u001b[0m\u001b[0;34m\u001b[0m\u001b[0m\n",
      "\u001b[0;32m/Users/daniel/anaconda/lib/python3.6/site-packages/astropy/table/table.py\u001b[0m in \u001b[0;36m_check_names_dtype\u001b[0;34m(self, names, dtype, n_cols)\u001b[0m\n\u001b[1;32m    616\u001b[0m             raise ValueError(\n\u001b[1;32m    617\u001b[0m                 \u001b[0;34m'Arguments \"names\" and \"dtype\" must match number of columns'\u001b[0m\u001b[0;34m\u001b[0m\u001b[0m\n\u001b[0;32m--> 618\u001b[0;31m                 .format(inp_str))\n\u001b[0m\u001b[1;32m    619\u001b[0m \u001b[0;34m\u001b[0m\u001b[0m\n\u001b[1;32m    620\u001b[0m     \u001b[0;32mdef\u001b[0m \u001b[0m_set_masked_from_cols\u001b[0m\u001b[0;34m(\u001b[0m\u001b[0mself\u001b[0m\u001b[0;34m,\u001b[0m \u001b[0mcols\u001b[0m\u001b[0;34m)\u001b[0m\u001b[0;34m:\u001b[0m\u001b[0;34m\u001b[0m\u001b[0m\n",
      "\u001b[0;31mValueError\u001b[0m: Arguments \"names\" and \"dtype\" must match number of columns"
     ]
    }
   ],
   "source": [
    "import numpy as np\n",
    "import matplotlib.pyplot as plt\n",
    "\n",
    "from pwv_kpno.pwv_atm import trans_for_pwv\n",
    "\n",
    "bins = np.arange(4000, 12000)\n",
    "t = trans_for_pwv(12, 4, bins)\n",
    "\n",
    "plt.errorbar(x=t['wavelength'], y=t['transmission'], yerr=t['transmission_err'], ecolor='grey')\n",
    "plt.ylim(0, 1)\n",
    "plt.show()\n",
    "\n",
    "t"
   ]
  },
  {
   "cell_type": "markdown",
   "metadata": {},
   "source": [
    "## Creating a new config file"
   ]
  },
  {
   "cell_type": "markdown",
   "metadata": {},
   "source": [
    "In order to model the atmosphere at a given location, `pwv_kpno` requires a config file for that location. We can create a custom config file using the `ConfigBuilder` class as follows:"
   ]
  },
  {
   "cell_type": "code",
   "execution_count": 2,
   "metadata": {
    "collapsed": true
   },
   "outputs": [],
   "source": [
    "import numpy as np\n",
    "from pwv_kpno import ConfigBuilder\n",
    "\n",
    "\n",
    "# An subset of the Kitt Peak model using Angstroms and cm^2\n",
    "wavelengths = np.array([3000, 3001, 3002]) \n",
    "modtran_cross_sections = np.array([5.719913264564206E-9,\n",
    "                                   5.725763008721962E-9,\n",
    "                                   5.7315124715513006E-9])\n",
    "\n",
    "new_config = ConfigBuilder()\n",
    "new_config.site_name = 'example_loc'\n",
    "new_config.primary_rec = 'KITT' # The primary receiver\n",
    "new_config.sup_rec = ['AZAM']  # A list of secondary receivers\n",
    "new_config.wavelengths = wavelengths\n",
    "new_config.cross_sections = modtran_cross_sections\n",
    "\n",
    "# Create output file example_loc.ecsv\n",
    "# By default existing files are not overwritten\n",
    "new_config.save_to_dir('.', overwrite=True)\n"
   ]
  },
  {
   "cell_type": "markdown",
   "metadata": {},
   "source": [
    "An alternative but functionally equivilent method would be to instantiate the class with the desired information:"
   ]
  },
  {
   "cell_type": "code",
   "execution_count": 4,
   "metadata": {
    "collapsed": true
   },
   "outputs": [],
   "source": [
    "new_config = ConfigBuilder(\n",
    "    site_name = 'example_loc',\n",
    "    primary_rec = 'KITT',\n",
    "    sup_rec = ['AZAM'],\n",
    "    wavelengths = wavelengths,\n",
    "    cross_sections = modtran_cross_sections\n",
    ")\n",
    "\n",
    "new_config.save_to_dir('.', overwrite=True)"
   ]
  },
  {
   "cell_type": "markdown",
   "metadata": {},
   "source": [
    "If desired, useres can specify custom data cuts on SuomiNet data used by the package. Data cuts can be specified using a 2d dictionary of boundary values. The first key specifies which receiver the data cuts apply to. The second key specifies what values to cut. Following SuomiNet's naming convention, optional values that can be cut include `'PWV', 'PWVerr', 'ZenithDelay', 'SrfcPress', 'SrfcTemp',` and `'SrfcRH'`. For example, if we only wanted to use pressure measurements between 880 and 925 mbar for the AZAM receiver:"
   ]
  },
  {
   "cell_type": "code",
   "execution_count": 6,
   "metadata": {
    "collapsed": true
   },
   "outputs": [],
   "source": [
    "# Here we define what data NOT to use\n",
    "data_cuts = {'AZAM': {'SrfcPress': [[0, 880], [925, 10000]]}}     \n",
    "\n",
    "new_config = ConfigBuilder(\n",
    "    site_name = 'example_loc',\n",
    "    primary_rec = 'KITT',\n",
    "    sup_rec = ['AZAM'],\n",
    "    wavelengths = wavelengths,\n",
    "    cross_sections = modtran_cross_sections,\n",
    "    data_cuts = data_cuts\n",
    ")\n",
    "\n",
    "new_config.save_to_dir('.', overwrite=True)"
   ]
  },
  {
   "cell_type": "markdown",
   "metadata": {},
   "source": [
    "## Errors and Warnings"
   ]
  },
  {
   "cell_type": "markdown",
   "metadata": {},
   "source": [
    "If the user forgets to provide any required information, `save_to_dir` will raise an error."
   ]
  },
  {
   "cell_type": "code",
   "execution_count": 7,
   "metadata": {},
   "outputs": [
    {
     "ename": "ValueError",
     "evalue": "Must specify attribute site_name before saving.",
     "output_type": "error",
     "traceback": [
      "\u001b[0;31m---------------------------------------------------------------------------\u001b[0m",
      "\u001b[0;31mValueError\u001b[0m                                Traceback (most recent call last)",
      "\u001b[0;32m<ipython-input-7-eda84aeaf29c>\u001b[0m in \u001b[0;36m<module>\u001b[0;34m()\u001b[0m\n\u001b[1;32m      6\u001b[0m )\n\u001b[1;32m      7\u001b[0m \u001b[0;34m\u001b[0m\u001b[0m\n\u001b[0;32m----> 8\u001b[0;31m \u001b[0mnew_config\u001b[0m\u001b[0;34m.\u001b[0m\u001b[0msave_to_dir\u001b[0m\u001b[0;34m(\u001b[0m\u001b[0;34m'.'\u001b[0m\u001b[0;34m,\u001b[0m \u001b[0moverwrite\u001b[0m\u001b[0;34m=\u001b[0m\u001b[0;32mTrue\u001b[0m\u001b[0;34m)\u001b[0m\u001b[0;34m\u001b[0m\u001b[0m\n\u001b[0m",
      "\u001b[0;32m/Users/daniel/GitHub/pwv_kpno/pwv_kpno/_config_builder.py\u001b[0m in \u001b[0;36msave_to_dir\u001b[0;34m(self, out_dir, overwrite)\u001b[0m\n\u001b[1;32m    156\u001b[0m         \"\"\"\n\u001b[1;32m    157\u001b[0m \u001b[0;34m\u001b[0m\u001b[0m\n\u001b[0;32m--> 158\u001b[0;31m         \u001b[0mself\u001b[0m\u001b[0;34m.\u001b[0m\u001b[0m_raise_unset_attributes\u001b[0m\u001b[0;34m(\u001b[0m\u001b[0;34m)\u001b[0m\u001b[0;34m\u001b[0m\u001b[0m\n\u001b[0m\u001b[1;32m    159\u001b[0m         model = create_pwv_atm_model(mod_lambda=np.array(self.wavelengths),\n\u001b[1;32m    160\u001b[0m                                      \u001b[0mmod_cs\u001b[0m\u001b[0;34m=\u001b[0m\u001b[0mnp\u001b[0m\u001b[0;34m.\u001b[0m\u001b[0marray\u001b[0m\u001b[0;34m(\u001b[0m\u001b[0mself\u001b[0m\u001b[0;34m.\u001b[0m\u001b[0mcross_sections\u001b[0m\u001b[0;34m)\u001b[0m\u001b[0;34m,\u001b[0m\u001b[0;34m\u001b[0m\u001b[0m\n",
      "\u001b[0;32m/Users/daniel/GitHub/pwv_kpno/pwv_kpno/_config_builder.py\u001b[0m in \u001b[0;36m_raise_unset_attributes\u001b[0;34m(self)\u001b[0m\n\u001b[1;32m     72\u001b[0m         \u001b[0;32mfor\u001b[0m \u001b[0mvalue\u001b[0m \u001b[0;32min\u001b[0m \u001b[0mattrs\u001b[0m\u001b[0;34m:\u001b[0m\u001b[0;34m\u001b[0m\u001b[0m\n\u001b[1;32m     73\u001b[0m             \u001b[0;32mif\u001b[0m \u001b[0mgetattr\u001b[0m\u001b[0;34m(\u001b[0m\u001b[0mself\u001b[0m\u001b[0;34m,\u001b[0m \u001b[0mvalue\u001b[0m\u001b[0;34m)\u001b[0m \u001b[0;32mis\u001b[0m \u001b[0;32mNone\u001b[0m\u001b[0;34m:\u001b[0m\u001b[0;34m\u001b[0m\u001b[0m\n\u001b[0;32m---> 74\u001b[0;31m                 \u001b[0;32mraise\u001b[0m \u001b[0mValueError\u001b[0m\u001b[0;34m(\u001b[0m\u001b[0merr_msg\u001b[0m\u001b[0;34m.\u001b[0m\u001b[0mformat\u001b[0m\u001b[0;34m(\u001b[0m\u001b[0mvalue\u001b[0m\u001b[0;34m)\u001b[0m\u001b[0;34m)\u001b[0m\u001b[0;34m\u001b[0m\u001b[0m\n\u001b[0m\u001b[1;32m     75\u001b[0m \u001b[0;34m\u001b[0m\u001b[0m\n\u001b[1;32m     76\u001b[0m     \u001b[0;32mdef\u001b[0m \u001b[0m_warn_data_cuts\u001b[0m\u001b[0;34m(\u001b[0m\u001b[0mself\u001b[0m\u001b[0;34m)\u001b[0m\u001b[0;34m:\u001b[0m\u001b[0;34m\u001b[0m\u001b[0m\n",
      "\u001b[0;31mValueError\u001b[0m: Must specify attribute site_name before saving."
     ]
    }
   ],
   "source": [
    "new_config = ConfigBuilder(\n",
    "    primary_rec = 'kitt',\n",
    "    sup_rec = ['Sa48'],\n",
    "    wavelengths = wavelengths,\n",
    "    cross_sections = modtran_cross_sections\n",
    ")\n",
    "\n",
    "new_config.save_to_dir('.', overwrite=True)"
   ]
  },
  {
   "cell_type": "markdown",
   "metadata": {},
   "source": [
    "Any issues with formatting the data will raise warnings. This helps ensure that the user understands how the package works. These warnings are also raised when the `save_to_dir` method is called."
   ]
  },
  {
   "cell_type": "code",
   "execution_count": 9,
   "metadata": {},
   "outputs": [
    {
     "name": "stderr",
     "output_type": "stream",
     "text": [
      "/Users/daniel/GitHub/pwv_kpno/pwv_kpno/_config_builder.py:107: UserWarning: pwv_kpno uses lowercase site names. The gicen site name EXAMPLE_LOC will be saved as example_loc.\n",
      "  ' be saved as {}.'.format(self.site_name, self.site_name.lower())\n",
      "/Users/daniel/GitHub/pwv_kpno/pwv_kpno/_config_builder.py:127: UserWarning: SuomiNet ID codes should be uppercase. ID code Sa48 will be saved as SA48.\n",
      "  ' be saved as {}.'.format(id_code, id_code.upper())\n",
      "/Users/daniel/GitHub/pwv_kpno/pwv_kpno/_config_builder.py:127: UserWarning: SuomiNet ID codes should be uppercase. ID code kitt will be saved as KITT.\n",
      "  ' be saved as {}.'.format(id_code, id_code.upper())\n"
     ]
    }
   ],
   "source": [
    "new_config = ConfigBuilder(\n",
    "    site_name = 'EXAMPLE_LOC',\n",
    "    primary_rec = 'kitt',\n",
    "    sup_rec = ['Sa48'],\n",
    "    wavelengths = wavelengths,\n",
    "    cross_sections = modtran_cross_sections\n",
    ")\n",
    "\n",
    "new_config.save_to_dir('.', overwrite=True)"
   ]
  },
  {
   "cell_type": "markdown",
   "metadata": {},
   "source": [
    "# Choosing a location into pwv_kpno"
   ]
  },
  {
   "cell_type": "markdown",
   "metadata": {},
   "source": [
    "When imported, the `pwv_kpno` package has no knowledge of what location you wish to model"
   ]
  },
  {
   "cell_type": "code",
   "execution_count": 10,
   "metadata": {},
   "outputs": [
    {
     "data": {
      "text/plain": [
       "[2010, 2011, 2012, 2013, 2014, 2015, 2016, 2017]"
      ]
     },
     "execution_count": 10,
     "metadata": {},
     "output_type": "execute_result"
    }
   ],
   "source": [
    "from pwv_kpno import pwv_atm\n",
    "\n",
    "pwv_atm.available_data()"
   ]
  },
  {
   "cell_type": "markdown",
   "metadata": {},
   "source": [
    "We can configure `pwv_kpno` to model a specific location using the `settings` object"
   ]
  },
  {
   "cell_type": "code",
   "execution_count": 12,
   "metadata": {},
   "outputs": [
    {
     "data": {
      "text/plain": [
       "[2010, 2011, 2012, 2013, 2014, 2015, 2016, 2017]"
      ]
     },
     "execution_count": 12,
     "metadata": {},
     "output_type": "execute_result"
    }
   ],
   "source": [
    "from pwv_kpno import settings\n",
    "\n",
    "settings.set_site('kitt_peak')\n",
    "pwv_atm.available_data()"
   ]
  },
  {
   "cell_type": "markdown",
   "metadata": {},
   "source": [
    "The `settings` object also provides a handful of useful information about the current location"
   ]
  },
  {
   "cell_type": "code",
   "execution_count": 15,
   "metadata": {},
   "outputs": [
    {
     "name": "stdout",
     "output_type": "stream",
     "text": [
      "Location being modeled: kitt_peak\n",
      "List of available locations:  ['kitt_peak']\n",
      "List of receiver ids for the current location:  ['AZAM', 'KITT', 'P014', 'SA46', 'SA48']\n",
      "The id for primary receiver:  KITT\n",
      "The ids for supplementary receivers:  ['AZAM', 'P014', 'SA46', 'SA48']\n"
     ]
    }
   ],
   "source": [
    "print('Location being modeled:', settings.site_name)\n",
    "print('List of available locations: ', settings.available_sites)\n",
    "print('List of receiver ids for the current location: ', settings.receivers)\n",
    "print('The id for primary receiver: ', settings.primary_rec)\n",
    "print('The ids for supplementary receivers: ', settings.supplement_rec)"
   ]
  },
  {
   "cell_type": "markdown",
   "metadata": {},
   "source": [
    "In order to model a custom location we first need to import the appropriate config file. Note that this step only has to be done once. Afterwards we can switch betwean locations normally using the `set_location` method."
   ]
  },
  {
   "cell_type": "code",
   "execution_count": 20,
   "metadata": {},
   "outputs": [
    {
     "name": "stdout",
     "output_type": "stream",
     "text": [
      "Location being modeled: example_loc\n",
      "List of available locations:  ['kitt_peak', 'example_loc']\n",
      "List of receiver ids for the current location:  ['KITT', 'SA48']\n",
      "The id for primary receiver:  KITT\n",
      "The ids for supplementary receivers:  ['SA48']\n"
     ]
    }
   ],
   "source": [
    "settings.import_site('./example_loc.ecsv', overwrite=True)\n",
    "settings.set_site('example_loc')\n",
    "\n",
    "print('Location being modeled:', settings.site_name)\n",
    "print('List of available locations: ', settings.available_sites)\n",
    "print('List of receiver ids for the current location: ', settings.receivers)\n",
    "print('The id for primary receiver: ', settings.primary_rec)\n",
    "print('The ids for supplementary receivers: ', settings.supplement_rec)\n"
   ]
  },
  {
   "cell_type": "markdown",
   "metadata": {},
   "source": [
    "By default there is no local SuomiNet data for this location. We need to download this first"
   ]
  },
  {
   "cell_type": "code",
   "execution_count": 21,
   "metadata": {},
   "outputs": [
    {
     "name": "stderr",
     "output_type": "stream",
     "text": [
      "/Users/daniel/anaconda/lib/python3.6/site-packages/scipy/odr/odrpack.py:856: OdrWarning: Empty data detected for ODR instance. Do not expect any fitting to occur\n",
      "  OdrWarning)\n"
     ]
    },
    {
     "data": {
      "text/plain": [
       "[2010]"
      ]
     },
     "execution_count": 21,
     "metadata": {},
     "output_type": "execute_result"
    }
   ],
   "source": [
    "pwv_atm.update_models(2010)"
   ]
  },
  {
   "cell_type": "code",
   "execution_count": 22,
   "metadata": {},
   "outputs": [
    {
     "data": {
      "text/html": [
       "<i>Table masked=True length=17348</i>\n",
       "<table id=\"table4685573480\" class=\"table-striped table-bordered table-condensed\">\n",
       "<thead><tr><th>date</th><th>KITT</th><th>KITT_err</th><th>SA48</th><th>SA48_err</th></tr></thead>\n",
       "<thead><tr><th>UTC</th><th>mm</th><th>mm</th><th>mm</th><th>mm</th></tr></thead>\n",
       "<thead><tr><th>object</th><th>int64</th><th>int64</th><th>float64</th><th>float64</th></tr></thead>\n",
       "<tr><td>2010-01-01 00:15:00+00:00</td><td>--</td><td>--</td><td>4.7</td><td>0.125</td></tr>\n",
       "<tr><td>2010-01-01 00:45:00+00:00</td><td>--</td><td>--</td><td>4.7</td><td>0.125</td></tr>\n",
       "<tr><td>2010-01-01 01:15:00+00:00</td><td>--</td><td>--</td><td>3.6</td><td>0.125</td></tr>\n",
       "<tr><td>2010-01-01 01:45:00+00:00</td><td>--</td><td>--</td><td>3.6</td><td>0.125</td></tr>\n",
       "<tr><td>2010-01-01 02:15:00+00:00</td><td>--</td><td>--</td><td>3.5</td><td>0.125</td></tr>\n",
       "<tr><td>2010-01-01 02:45:00+00:00</td><td>--</td><td>--</td><td>3.6</td><td>0.125</td></tr>\n",
       "<tr><td>2010-01-01 03:15:00+00:00</td><td>--</td><td>--</td><td>3.7</td><td>0.125</td></tr>\n",
       "<tr><td>2010-01-01 03:45:00+00:00</td><td>--</td><td>--</td><td>3.5</td><td>0.125</td></tr>\n",
       "<tr><td>2010-01-01 04:15:00+00:00</td><td>--</td><td>--</td><td>3.4</td><td>0.125</td></tr>\n",
       "<tr><td>...</td><td>...</td><td>...</td><td>...</td><td>...</td></tr>\n",
       "<tr><td>2010-12-31 19:15:00+00:00</td><td>--</td><td>--</td><td>5.3</td><td>0.125</td></tr>\n",
       "<tr><td>2010-12-31 19:45:00+00:00</td><td>--</td><td>--</td><td>5.4</td><td>0.125</td></tr>\n",
       "<tr><td>2010-12-31 20:15:00+00:00</td><td>--</td><td>--</td><td>4.8</td><td>0.125</td></tr>\n",
       "<tr><td>2010-12-31 20:45:00+00:00</td><td>--</td><td>--</td><td>4.7</td><td>0.125</td></tr>\n",
       "<tr><td>2010-12-31 21:15:00+00:00</td><td>--</td><td>--</td><td>5.5</td><td>0.125</td></tr>\n",
       "<tr><td>2010-12-31 21:45:00+00:00</td><td>--</td><td>--</td><td>5.4</td><td>0.125</td></tr>\n",
       "<tr><td>2010-12-31 22:15:00+00:00</td><td>--</td><td>--</td><td>5.3</td><td>0.125</td></tr>\n",
       "<tr><td>2010-12-31 22:45:00+00:00</td><td>--</td><td>--</td><td>5.1</td><td>0.125</td></tr>\n",
       "<tr><td>2010-12-31 23:15:00+00:00</td><td>--</td><td>--</td><td>4.0</td><td>0.125</td></tr>\n",
       "<tr><td>2010-12-31 23:45:00+00:00</td><td>--</td><td>--</td><td>4.0</td><td>0.125</td></tr>\n",
       "</table>"
      ],
      "text/plain": [
       "<Table masked=True length=17348>\n",
       "           date            KITT KITT_err   SA48  SA48_err\n",
       "           UTC              mm     mm       mm      mm   \n",
       "          object          int64  int64   float64 float64 \n",
       "------------------------- ----- -------- ------- --------\n",
       "2010-01-01 00:15:00+00:00    --       --     4.7    0.125\n",
       "2010-01-01 00:45:00+00:00    --       --     4.7    0.125\n",
       "2010-01-01 01:15:00+00:00    --       --     3.6    0.125\n",
       "2010-01-01 01:45:00+00:00    --       --     3.6    0.125\n",
       "2010-01-01 02:15:00+00:00    --       --     3.5    0.125\n",
       "2010-01-01 02:45:00+00:00    --       --     3.6    0.125\n",
       "2010-01-01 03:15:00+00:00    --       --     3.7    0.125\n",
       "2010-01-01 03:45:00+00:00    --       --     3.5    0.125\n",
       "2010-01-01 04:15:00+00:00    --       --     3.4    0.125\n",
       "                      ...   ...      ...     ...      ...\n",
       "2010-12-31 19:15:00+00:00    --       --     5.3    0.125\n",
       "2010-12-31 19:45:00+00:00    --       --     5.4    0.125\n",
       "2010-12-31 20:15:00+00:00    --       --     4.8    0.125\n",
       "2010-12-31 20:45:00+00:00    --       --     4.7    0.125\n",
       "2010-12-31 21:15:00+00:00    --       --     5.5    0.125\n",
       "2010-12-31 21:45:00+00:00    --       --     5.4    0.125\n",
       "2010-12-31 22:15:00+00:00    --       --     5.3    0.125\n",
       "2010-12-31 22:45:00+00:00    --       --     5.1    0.125\n",
       "2010-12-31 23:15:00+00:00    --       --     4.0    0.125\n",
       "2010-12-31 23:45:00+00:00    --       --     4.0    0.125"
      ]
     },
     "execution_count": 22,
     "metadata": {},
     "output_type": "execute_result"
    }
   ],
   "source": [
    "pwv_atm.measured_pwv()"
   ]
  },
  {
   "cell_type": "code",
   "execution_count": null,
   "metadata": {
    "collapsed": true
   },
   "outputs": [],
   "source": []
  }
 ],
 "metadata": {
  "kernelspec": {
   "display_name": "Python 3",
   "language": "python",
   "name": "python3"
  },
  "language_info": {
   "codemirror_mode": {
    "name": "ipython",
    "version": 3
   },
   "file_extension": ".py",
   "mimetype": "text/x-python",
   "name": "python",
   "nbconvert_exporter": "python",
   "pygments_lexer": "ipython3",
   "version": "3.6.5"
  }
 },
 "nbformat": 4,
 "nbformat_minor": 2
}
