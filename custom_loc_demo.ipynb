{
 "cells": [
  {
   "cell_type": "code",
   "execution_count": 1,
   "metadata": {
    "collapsed": true
   },
   "outputs": [],
   "source": [
    "from pwv_kpno import __version__\n",
    "if not int(__version__.split('.')[1]) >= 12:\n",
    "    raise ImportError('Requires at least pwv_kpno version 0.12.0')\n"
   ]
  },
  {
   "cell_type": "markdown",
   "metadata": {},
   "source": [
    "## Creating a new config file"
   ]
  },
  {
   "cell_type": "markdown",
   "metadata": {},
   "source": [
    "In order to model the atmosphere at a given location, `pwv_kpno` requires a config file for that location. We can create a custom config file using the `ConfigBuilder` class as follows:"
   ]
  },
  {
   "cell_type": "code",
   "execution_count": 2,
   "metadata": {},
   "outputs": [],
   "source": [
    "import numpy as np\n",
    "from pwv_kpno import ConfigBuilder\n",
    "\n",
    "\n",
    "# An subset of the Kitt Peak model using Angstroms and cm^2\n",
    "wavelengths = np.array([3000, 3001, 3002]) \n",
    "modtran_cross_sections = np.array([5.719913264564206E-9,\n",
    "                                   5.725763008721962E-9,\n",
    "                                   5.7315124715513006E-9])\n",
    "\n",
    "new_config = ConfigBuilder()\n",
    "new_config.loc_name = 'example_loc'\n",
    "new_config.primary_rec = 'KITT' # The primary receiver\n",
    "new_config.sup_rec = ['AZAM']  # A list of secondary receivers\n",
    "new_config.wavelengths = wavelengths\n",
    "new_config.cross_sections = modtran_cross_sections\n",
    "\n",
    "# Create output file example_loc.ecsv\n",
    "# By default existing files are not overwritten\n",
    "new_config.save_to_dir('.', overwrite=True)\n"
   ]
  },
  {
   "cell_type": "markdown",
   "metadata": {},
   "source": [
    "An alternative but functionally equivilent method would be to instantiate the class with the desired information:"
   ]
  },
  {
   "cell_type": "code",
   "execution_count": 3,
   "metadata": {
    "collapsed": true
   },
   "outputs": [],
   "source": [
    "new_config = ConfigBuilder(\n",
    "    loc_name = 'example_loc',\n",
    "    primary_rec = 'KITT',\n",
    "    sup_rec = ['AZAM'],\n",
    "    wavelengths = wavelengths,\n",
    "    cross_sections = modtran_cross_sections\n",
    ")\n",
    "\n",
    "new_config.save_to_dir('.', overwrite=True)"
   ]
  },
  {
   "cell_type": "markdown",
   "metadata": {},
   "source": [
    "If desired, useres can specify custom data cuts on SuomiNet data used by the package. Data cuts can be specified using a 2d dictionary of boundary values. The first key specifies which receiver the data cuts apply to. The second key specifies what values to cut. Following SuomiNet's naming convention, optional values that can be cut include `'PWV', 'PWVerr', 'ZenithDelay', 'SrfcPress', 'SrfcTemp',` and `'SrfcRH'`. For example, if we only wanted to use pressure measurements between 880 and 925 mbar for the AZAM receiver:"
   ]
  },
  {
   "cell_type": "code",
   "execution_count": 4,
   "metadata": {
    "collapsed": true
   },
   "outputs": [],
   "source": [
    "# Here we define what data NOT to use\n",
    "data_cuts = {'AZAM': {'SrfcPress': [[0, 880], [925, 10000]]}}     \n",
    "\n",
    "new_config = ConfigBuilder(\n",
    "    loc_name = 'example_loc',\n",
    "    primary_rec = 'KITT',\n",
    "    sup_rec = ['AZAM'],\n",
    "    wavelengths = wavelengths,\n",
    "    cross_sections = modtran_cross_sections,\n",
    "    data_cuts = data_cuts\n",
    ")\n",
    "\n",
    "new_config.save_to_dir('.', overwrite=True)"
   ]
  },
  {
   "cell_type": "markdown",
   "metadata": {},
   "source": [
    "## Errors and Warnings"
   ]
  },
  {
   "cell_type": "markdown",
   "metadata": {},
   "source": [
    "If the user forgets to provide any required information, `save_to_dir` will raise an error."
   ]
  },
  {
   "cell_type": "code",
   "execution_count": 5,
   "metadata": {},
   "outputs": [
    {
     "ename": "ValueError",
     "evalue": "Must specify attribute loc_name before saving.",
     "output_type": "error",
     "traceback": [
      "\u001b[0;31m---------------------------------------------------------------------------\u001b[0m",
      "\u001b[0;31mValueError\u001b[0m                                Traceback (most recent call last)",
      "\u001b[0;32m<ipython-input-5-eda84aeaf29c>\u001b[0m in \u001b[0;36m<module>\u001b[0;34m()\u001b[0m\n\u001b[1;32m      6\u001b[0m )\n\u001b[1;32m      7\u001b[0m \u001b[0;34m\u001b[0m\u001b[0m\n\u001b[0;32m----> 8\u001b[0;31m \u001b[0mnew_config\u001b[0m\u001b[0;34m.\u001b[0m\u001b[0msave_to_dir\u001b[0m\u001b[0;34m(\u001b[0m\u001b[0;34m'.'\u001b[0m\u001b[0;34m,\u001b[0m \u001b[0moverwrite\u001b[0m\u001b[0;34m=\u001b[0m\u001b[0;32mTrue\u001b[0m\u001b[0;34m)\u001b[0m\u001b[0;34m\u001b[0m\u001b[0m\n\u001b[0m",
      "\u001b[0;32m/Users/daniel/GitHub/pwv_kpno/pwv_kpno/_config_builder.py\u001b[0m in \u001b[0;36msave_to_dir\u001b[0;34m(self, out_dir, overwrite)\u001b[0m\n\u001b[1;32m    156\u001b[0m         \"\"\"\n\u001b[1;32m    157\u001b[0m \u001b[0;34m\u001b[0m\u001b[0m\n\u001b[0;32m--> 158\u001b[0;31m         \u001b[0mself\u001b[0m\u001b[0;34m.\u001b[0m\u001b[0m_raise_unset_attributes\u001b[0m\u001b[0;34m(\u001b[0m\u001b[0;34m)\u001b[0m\u001b[0;34m\u001b[0m\u001b[0m\n\u001b[0m\u001b[1;32m    159\u001b[0m         model = create_pwv_atm_model(mod_lambda=np.array(self.wavelengths),\n\u001b[1;32m    160\u001b[0m                                      \u001b[0mmod_cs\u001b[0m\u001b[0;34m=\u001b[0m\u001b[0mnp\u001b[0m\u001b[0;34m.\u001b[0m\u001b[0marray\u001b[0m\u001b[0;34m(\u001b[0m\u001b[0mself\u001b[0m\u001b[0;34m.\u001b[0m\u001b[0mcross_sections\u001b[0m\u001b[0;34m)\u001b[0m\u001b[0;34m,\u001b[0m\u001b[0;34m\u001b[0m\u001b[0m\n",
      "\u001b[0;32m/Users/daniel/GitHub/pwv_kpno/pwv_kpno/_config_builder.py\u001b[0m in \u001b[0;36m_raise_unset_attributes\u001b[0;34m(self)\u001b[0m\n\u001b[1;32m     72\u001b[0m         \u001b[0;32mfor\u001b[0m \u001b[0mvalue\u001b[0m \u001b[0;32min\u001b[0m \u001b[0mattrs\u001b[0m\u001b[0;34m:\u001b[0m\u001b[0;34m\u001b[0m\u001b[0m\n\u001b[1;32m     73\u001b[0m             \u001b[0;32mif\u001b[0m \u001b[0mgetattr\u001b[0m\u001b[0;34m(\u001b[0m\u001b[0mself\u001b[0m\u001b[0;34m,\u001b[0m \u001b[0mvalue\u001b[0m\u001b[0;34m)\u001b[0m \u001b[0;32mis\u001b[0m \u001b[0;32mNone\u001b[0m\u001b[0;34m:\u001b[0m\u001b[0;34m\u001b[0m\u001b[0m\n\u001b[0;32m---> 74\u001b[0;31m                 \u001b[0;32mraise\u001b[0m \u001b[0mValueError\u001b[0m\u001b[0;34m(\u001b[0m\u001b[0merr_msg\u001b[0m\u001b[0;34m.\u001b[0m\u001b[0mformat\u001b[0m\u001b[0;34m(\u001b[0m\u001b[0mvalue\u001b[0m\u001b[0;34m)\u001b[0m\u001b[0;34m)\u001b[0m\u001b[0;34m\u001b[0m\u001b[0m\n\u001b[0m\u001b[1;32m     75\u001b[0m \u001b[0;34m\u001b[0m\u001b[0m\n\u001b[1;32m     76\u001b[0m     \u001b[0;32mdef\u001b[0m \u001b[0m_warn_data_cuts\u001b[0m\u001b[0;34m(\u001b[0m\u001b[0mself\u001b[0m\u001b[0;34m)\u001b[0m\u001b[0;34m:\u001b[0m\u001b[0;34m\u001b[0m\u001b[0m\n",
      "\u001b[0;31mValueError\u001b[0m: Must specify attribute loc_name before saving."
     ]
    }
   ],
   "source": [
    "new_config = ConfigBuilder(\n",
    "    primary_rec = 'kitt',\n",
    "    sup_rec = ['Sa48'],\n",
    "    wavelengths = wavelengths,\n",
    "    cross_sections = modtran_cross_sections\n",
    ")\n",
    "\n",
    "new_config.save_to_dir('.', overwrite=True)"
   ]
  },
  {
   "cell_type": "markdown",
   "metadata": {},
   "source": [
    "Any issues with formatting the data will raise warnings. This helps ensure that the user understands how the package works. These warnings are also raised when the `save_to_dir` method is called."
   ]
  },
  {
   "cell_type": "code",
   "execution_count": 6,
   "metadata": {},
   "outputs": [
    {
     "name": "stderr",
     "output_type": "stream",
     "text": [
      "/Users/daniel/GitHub/pwv_kpno/pwv_kpno/_config_builder.py:107: UserWarning: pwv_kpno uses lowercase location names. Location name EXAMPLE_LOC will be saved as example_loc.\n",
      "  ' be saved as {}.'.format(self.loc_name, self.loc_name.lower())\n",
      "/Users/daniel/GitHub/pwv_kpno/pwv_kpno/_config_builder.py:127: UserWarning: SuomiNet ID codes should be uppercase. ID code Sa48 will be saved as SA48.\n",
      "  ' be saved as {}.'.format(id_code, id_code.upper())\n",
      "/Users/daniel/GitHub/pwv_kpno/pwv_kpno/_config_builder.py:127: UserWarning: SuomiNet ID codes should be uppercase. ID code kitt will be saved as KITT.\n",
      "  ' be saved as {}.'.format(id_code, id_code.upper())\n"
     ]
    }
   ],
   "source": [
    "new_config = ConfigBuilder(\n",
    "    loc_name = 'EXAMPLE_LOC',\n",
    "    primary_rec = 'kitt',\n",
    "    sup_rec = ['Sa48'],\n",
    "    wavelengths = wavelengths,\n",
    "    cross_sections = modtran_cross_sections\n",
    ")\n",
    "\n",
    "new_config.save_to_dir('.', overwrite=True)"
   ]
  },
  {
   "cell_type": "markdown",
   "metadata": {},
   "source": [
    "# Choosing a location into pwv_kpno"
   ]
  },
  {
   "cell_type": "markdown",
   "metadata": {},
   "source": [
    "When imported, the `pwv_kpno` package has no knowledge of what location you wish to model"
   ]
  },
  {
   "cell_type": "code",
   "execution_count": 7,
   "metadata": {},
   "outputs": [
    {
     "ename": "ModelingConfigError",
     "evalue": "No location has been set for pwv_kpno model.",
     "output_type": "error",
     "traceback": [
      "\u001b[0;31m---------------------------------------------------------------------------\u001b[0m",
      "\u001b[0;31mModelingConfigError\u001b[0m                       Traceback (most recent call last)",
      "\u001b[0;32m<ipython-input-7-6fda1260f21a>\u001b[0m in \u001b[0;36m<module>\u001b[0;34m()\u001b[0m\n\u001b[1;32m      1\u001b[0m \u001b[0;32mfrom\u001b[0m \u001b[0mpwv_kpno\u001b[0m \u001b[0;32mimport\u001b[0m \u001b[0mpwv_atm\u001b[0m\u001b[0;34m\u001b[0m\u001b[0m\n\u001b[1;32m      2\u001b[0m \u001b[0;34m\u001b[0m\u001b[0m\n\u001b[0;32m----> 3\u001b[0;31m \u001b[0mpwv_atm\u001b[0m\u001b[0;34m.\u001b[0m\u001b[0mavailable_data\u001b[0m\u001b[0;34m(\u001b[0m\u001b[0;34m)\u001b[0m\u001b[0;34m\u001b[0m\u001b[0m\n\u001b[0m",
      "\u001b[0;32m/Users/daniel/GitHub/pwv_kpno/pwv_kpno/_serve_pwv_data.py\u001b[0m in \u001b[0;36mavailable_data\u001b[0;34m()\u001b[0m\n\u001b[1;32m    116\u001b[0m     \"\"\"\n\u001b[1;32m    117\u001b[0m \u001b[0;34m\u001b[0m\u001b[0m\n\u001b[0;32m--> 118\u001b[0;31m     \u001b[0;32mreturn\u001b[0m \u001b[0msorted\u001b[0m\u001b[0;34m(\u001b[0m\u001b[0msettings\u001b[0m\u001b[0;34m.\u001b[0m\u001b[0m_available_years\u001b[0m\u001b[0;34m)\u001b[0m\u001b[0;34m\u001b[0m\u001b[0m\n\u001b[0m\u001b[1;32m    119\u001b[0m \u001b[0;34m\u001b[0m\u001b[0m\n\u001b[1;32m    120\u001b[0m \u001b[0;34m\u001b[0m\u001b[0m\n",
      "\u001b[0;32m/Users/daniel/GitHub/pwv_kpno/pwv_kpno/_settings.py\u001b[0m in \u001b[0;36mwrapper\u001b[0;34m(self, *args, **kwargs)\u001b[0m\n\u001b[1;32m     46\u001b[0m         \u001b[0;32mif\u001b[0m \u001b[0mself\u001b[0m\u001b[0;34m.\u001b[0m\u001b[0m_loc_name\u001b[0m \u001b[0;32mis\u001b[0m \u001b[0;32mNone\u001b[0m\u001b[0;34m:\u001b[0m\u001b[0;34m\u001b[0m\u001b[0m\n\u001b[1;32m     47\u001b[0m             \u001b[0merr_msg\u001b[0m \u001b[0;34m=\u001b[0m \u001b[0;34m'No location has been set for pwv_kpno model.'\u001b[0m\u001b[0;34m\u001b[0m\u001b[0m\n\u001b[0;32m---> 48\u001b[0;31m             \u001b[0;32mraise\u001b[0m \u001b[0mModelingConfigError\u001b[0m\u001b[0;34m(\u001b[0m\u001b[0merr_msg\u001b[0m\u001b[0;34m)\u001b[0m\u001b[0;34m\u001b[0m\u001b[0m\n\u001b[0m\u001b[1;32m     49\u001b[0m \u001b[0;34m\u001b[0m\u001b[0m\n\u001b[1;32m     50\u001b[0m         \u001b[0;32mreturn\u001b[0m \u001b[0mf\u001b[0m\u001b[0;34m(\u001b[0m\u001b[0mself\u001b[0m\u001b[0;34m,\u001b[0m \u001b[0;34m*\u001b[0m\u001b[0margs\u001b[0m\u001b[0;34m,\u001b[0m \u001b[0;34m**\u001b[0m\u001b[0mkwargs\u001b[0m\u001b[0;34m)\u001b[0m\u001b[0;34m\u001b[0m\u001b[0m\n",
      "\u001b[0;31mModelingConfigError\u001b[0m: No location has been set for pwv_kpno model."
     ]
    }
   ],
   "source": [
    "from pwv_kpno import pwv_atm\n",
    "\n",
    "pwv_atm.available_data()"
   ]
  },
  {
   "cell_type": "markdown",
   "metadata": {},
   "source": [
    "We can configure `pwv_kpno` to model a specific location using the `settings` object"
   ]
  },
  {
   "cell_type": "code",
   "execution_count": 8,
   "metadata": {},
   "outputs": [
    {
     "data": {
      "text/plain": [
       "[2010, 2011, 2012, 2013, 2014, 2015, 2016, 2017]"
      ]
     },
     "execution_count": 8,
     "metadata": {},
     "output_type": "execute_result"
    }
   ],
   "source": [
    "from pwv_kpno import settings\n",
    "\n",
    "settings.set_location('kitt_peak')\n",
    "pwv_atm.available_data()"
   ]
  },
  {
   "cell_type": "markdown",
   "metadata": {},
   "source": [
    "The `settings` object also provides a handful of useful information about the current location"
   ]
  },
  {
   "cell_type": "code",
   "execution_count": 9,
   "metadata": {},
   "outputs": [
    {
     "name": "stdout",
     "output_type": "stream",
     "text": [
      "Location being modeled: kitt_peak\n",
      "List of available locations:  ['kitt_peak', 'example_loc']\n",
      "List of receiver ids for the current location:  ['AZAM', 'KITT', 'P014', 'SA46', 'SA48']\n",
      "The id for primary receiver:  KITT\n",
      "The ids for supplementary receivers:  ['AZAM', 'P014', 'SA46', 'SA48']\n"
     ]
    }
   ],
   "source": [
    "print('Location being modeled:', settings.loc_name)\n",
    "print('List of available locations: ', settings.available_loc)\n",
    "print('List of receiver ids for the current location: ', settings.receivers)\n",
    "print('The id for primary receiver: ', settings.primary_rec)\n",
    "print('The ids for supplementary receivers: ', settings.supplement_rec)"
   ]
  },
  {
   "cell_type": "markdown",
   "metadata": {},
   "source": [
    "In order to model a custom location we first need to import the appropriate config file. Note that this step only has to be done once. Afterwards we can switch betwean locations normally using the `set_location` method."
   ]
  },
  {
   "cell_type": "code",
   "execution_count": 10,
   "metadata": {},
   "outputs": [
    {
     "name": "stdout",
     "output_type": "stream",
     "text": [
      "Location being modeled: example_loc\n",
      "List of available locations:  ['kitt_peak', 'example_loc']\n",
      "List of receiver ids for the current location:  ['KITT', 'SA48']\n",
      "The id for primary receiver:  KITT\n",
      "The ids for supplementary receivers:  ['SA48']\n"
     ]
    }
   ],
   "source": [
    "settings.import_location('./example_loc.ecsv', overwrite=True)\n",
    "settings.set_location('example_loc')\n",
    "\n",
    "print('Location being modeled:', settings.loc_name)\n",
    "print('List of available locations: ', settings.available_loc)\n",
    "print('List of receiver ids for the current location: ', settings.receivers)\n",
    "print('The id for primary receiver: ', settings.primary_rec)\n",
    "print('The ids for supplementary receivers: ', settings.supplement_rec)\n"
   ]
  },
  {
   "cell_type": "markdown",
   "metadata": {},
   "source": [
    "By default there is no local SuomiNet data for this location. We need to download this first"
   ]
  },
  {
   "cell_type": "code",
   "execution_count": 11,
   "metadata": {},
   "outputs": [
    {
     "name": "stderr",
     "output_type": "stream",
     "text": [
      "/Users/daniel/anaconda/lib/python3.6/site-packages/scipy/odr/odrpack.py:856: OdrWarning: Empty data detected for ODR instance. Do not expect any fitting to occur\n",
      "  OdrWarning)\n"
     ]
    },
    {
     "data": {
      "text/plain": [
       "[2010]"
      ]
     },
     "execution_count": 11,
     "metadata": {},
     "output_type": "execute_result"
    }
   ],
   "source": [
    "pwv_atm.update_models(2010)"
   ]
  },
  {
   "cell_type": "code",
   "execution_count": 12,
   "metadata": {},
   "outputs": [
    {
     "data": {
      "text/html": [
       "<i>Table masked=True length=17348</i>\n",
       "<table id=\"table4519569672\" class=\"table-striped table-bordered table-condensed\">\n",
       "<thead><tr><th>date</th><th>KITT</th><th>KITT_err</th><th>SA48</th><th>SA48_err</th></tr></thead>\n",
       "<thead><tr><th>UTC</th><th>mm</th><th>mm</th><th>mm</th><th>mm</th></tr></thead>\n",
       "<thead><tr><th>object</th><th>int64</th><th>int64</th><th>float64</th><th>float64</th></tr></thead>\n",
       "<tr><td>2010-01-01 00:15:00+00:00</td><td>--</td><td>--</td><td>4.7</td><td>0.125</td></tr>\n",
       "<tr><td>2010-01-01 00:45:00+00:00</td><td>--</td><td>--</td><td>4.7</td><td>0.125</td></tr>\n",
       "<tr><td>2010-01-01 01:15:00+00:00</td><td>--</td><td>--</td><td>3.6</td><td>0.125</td></tr>\n",
       "<tr><td>2010-01-01 01:45:00+00:00</td><td>--</td><td>--</td><td>3.6</td><td>0.125</td></tr>\n",
       "<tr><td>2010-01-01 02:15:00+00:00</td><td>--</td><td>--</td><td>3.5</td><td>0.125</td></tr>\n",
       "<tr><td>2010-01-01 02:45:00+00:00</td><td>--</td><td>--</td><td>3.6</td><td>0.125</td></tr>\n",
       "<tr><td>2010-01-01 03:15:00+00:00</td><td>--</td><td>--</td><td>3.7</td><td>0.125</td></tr>\n",
       "<tr><td>2010-01-01 03:45:00+00:00</td><td>--</td><td>--</td><td>3.5</td><td>0.125</td></tr>\n",
       "<tr><td>2010-01-01 04:15:00+00:00</td><td>--</td><td>--</td><td>3.4</td><td>0.125</td></tr>\n",
       "<tr><td>...</td><td>...</td><td>...</td><td>...</td><td>...</td></tr>\n",
       "<tr><td>2010-12-31 19:15:00+00:00</td><td>--</td><td>--</td><td>5.3</td><td>0.125</td></tr>\n",
       "<tr><td>2010-12-31 19:45:00+00:00</td><td>--</td><td>--</td><td>5.4</td><td>0.125</td></tr>\n",
       "<tr><td>2010-12-31 20:15:00+00:00</td><td>--</td><td>--</td><td>4.8</td><td>0.125</td></tr>\n",
       "<tr><td>2010-12-31 20:45:00+00:00</td><td>--</td><td>--</td><td>4.7</td><td>0.125</td></tr>\n",
       "<tr><td>2010-12-31 21:15:00+00:00</td><td>--</td><td>--</td><td>5.5</td><td>0.125</td></tr>\n",
       "<tr><td>2010-12-31 21:45:00+00:00</td><td>--</td><td>--</td><td>5.4</td><td>0.125</td></tr>\n",
       "<tr><td>2010-12-31 22:15:00+00:00</td><td>--</td><td>--</td><td>5.3</td><td>0.125</td></tr>\n",
       "<tr><td>2010-12-31 22:45:00+00:00</td><td>--</td><td>--</td><td>5.1</td><td>0.125</td></tr>\n",
       "<tr><td>2010-12-31 23:15:00+00:00</td><td>--</td><td>--</td><td>4.0</td><td>0.125</td></tr>\n",
       "<tr><td>2010-12-31 23:45:00+00:00</td><td>--</td><td>--</td><td>4.0</td><td>0.125</td></tr>\n",
       "</table>"
      ],
      "text/plain": [
       "<Table masked=True length=17348>\n",
       "           date            KITT KITT_err   SA48  SA48_err\n",
       "           UTC              mm     mm       mm      mm   \n",
       "          object          int64  int64   float64 float64 \n",
       "------------------------- ----- -------- ------- --------\n",
       "2010-01-01 00:15:00+00:00    --       --     4.7    0.125\n",
       "2010-01-01 00:45:00+00:00    --       --     4.7    0.125\n",
       "2010-01-01 01:15:00+00:00    --       --     3.6    0.125\n",
       "2010-01-01 01:45:00+00:00    --       --     3.6    0.125\n",
       "2010-01-01 02:15:00+00:00    --       --     3.5    0.125\n",
       "2010-01-01 02:45:00+00:00    --       --     3.6    0.125\n",
       "2010-01-01 03:15:00+00:00    --       --     3.7    0.125\n",
       "2010-01-01 03:45:00+00:00    --       --     3.5    0.125\n",
       "2010-01-01 04:15:00+00:00    --       --     3.4    0.125\n",
       "                      ...   ...      ...     ...      ...\n",
       "2010-12-31 19:15:00+00:00    --       --     5.3    0.125\n",
       "2010-12-31 19:45:00+00:00    --       --     5.4    0.125\n",
       "2010-12-31 20:15:00+00:00    --       --     4.8    0.125\n",
       "2010-12-31 20:45:00+00:00    --       --     4.7    0.125\n",
       "2010-12-31 21:15:00+00:00    --       --     5.5    0.125\n",
       "2010-12-31 21:45:00+00:00    --       --     5.4    0.125\n",
       "2010-12-31 22:15:00+00:00    --       --     5.3    0.125\n",
       "2010-12-31 22:45:00+00:00    --       --     5.1    0.125\n",
       "2010-12-31 23:15:00+00:00    --       --     4.0    0.125\n",
       "2010-12-31 23:45:00+00:00    --       --     4.0    0.125"
      ]
     },
     "execution_count": 12,
     "metadata": {},
     "output_type": "execute_result"
    }
   ],
   "source": [
    "pwv_atm.measured_pwv()"
   ]
  },
  {
   "cell_type": "code",
   "execution_count": null,
   "metadata": {
    "collapsed": true
   },
   "outputs": [],
   "source": []
  }
 ],
 "metadata": {
  "kernelspec": {
   "display_name": "Python 3",
   "language": "python",
   "name": "python3"
  },
  "language_info": {
   "codemirror_mode": {
    "name": "ipython",
    "version": 3
   },
   "file_extension": ".py",
   "mimetype": "text/x-python",
   "name": "python",
   "nbconvert_exporter": "python",
   "pygments_lexer": "ipython3",
   "version": "3.6.5"
  }
 },
 "nbformat": 4,
 "nbformat_minor": 2
}
