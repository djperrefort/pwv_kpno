{
 "cells": [
  {
   "cell_type": "markdown",
   "metadata": {},
   "source": [
    "# Correcting Photometric Absorption"
   ]
  },
  {
   "cell_type": "code",
   "execution_count": null,
   "metadata": {},
   "outputs": [],
   "source": [
    "import numpy as np\n",
    "from astropy.modeling import models\n",
    "from astropy import units as u\n",
    "\n",
    "bb = models.BlackBody(temperature=5000*u.K)\n",
    "\n",
    "wavelengths = np.arange(3_000, 12_000)\n",
    "flux_without_atm = bb(wavelengths * u.AA)  \n"
   ]
  },
  {
   "cell_type": "code",
   "execution_count": null,
   "metadata": {},
   "outputs": [],
   "source": [
    "from pwv_kpno.defaults import v1_transmission\n",
    "\n",
    "atm_transmission = v1_transmission(5, wavelengths)\n"
   ]
  },
  {
   "cell_type": "code",
   "execution_count": null,
   "metadata": {},
   "outputs": [],
   "source": [
    "i_band = (7000, 8500)\n",
    "numerator = np.trapz(flux_without_atm * atm_transmission, i_band, dx=1)\n",
    "denominator = np.trapz(flux_without_atm, i_band, dx=1)\n",
    "\n",
    "photo_corr = np.divide(numerator, denominator)\n"
   ]
  },
  {
   "cell_type": "code",
   "execution_count": null,
   "metadata": {},
   "outputs": [],
   "source": []
  }
 ],
 "metadata": {
  "kernelspec": {
   "display_name": "Python [conda env:pwv_kpno] *",
   "language": "python",
   "name": "conda-env-pwv_kpno-py"
  },
  "language_info": {
   "codemirror_mode": {
    "name": "ipython",
    "version": 3
   },
   "file_extension": ".py",
   "mimetype": "text/x-python",
   "name": "python",
   "nbconvert_exporter": "python",
   "pygments_lexer": "ipython3",
   "version": "3.6.10"
  }
 },
 "nbformat": 4,
 "nbformat_minor": 4
}
